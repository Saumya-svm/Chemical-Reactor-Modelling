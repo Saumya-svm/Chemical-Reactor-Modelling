{
 "cells": [
  {
   "cell_type": "code",
   "execution_count": 4,
   "id": "f756df6b",
   "metadata": {},
   "outputs": [
    {
     "data": {
      "text/plain": [
       "10-element Vector{SubString{String}}:\n",
       " \"“CH4\"\n",
       " \"+\"\n",
       " \"H2O\"\n",
       " \"=>\"\n",
       " \"3H2\"\n",
       " \"+\"\n",
       " \"CO\"\n",
       " \"12e14\"\n",
       " \"1.5\"\n",
       " \"120\""
      ]
     },
     "execution_count": 4,
     "metadata": {},
     "output_type": "execute_result"
    }
   ],
   "source": [
    "split(\"“CH4 + H2O => 3H2 + CO 12e14 1.5 120\")"
   ]
  },
  {
   "cell_type": "code",
   "execution_count": 74,
   "id": "3d384f08",
   "metadata": {},
   "outputs": [
    {
     "data": {
      "text/plain": [
       "parse (generic function with 1 method)"
      ]
     },
     "execution_count": 74,
     "metadata": {},
     "output_type": "execute_result"
    }
   ],
   "source": [
    "function parse(reaction::String)\n",
    "    reaction_type = \"\"\n",
    "    if occursin(reaction, \"=>\")\n",
    "        reaction_type = \"reversible\"\n",
    "    else\n",
    "        reaction_type = \"irreversible\"\n",
    "    end\n",
    "    params = []\n",
    "    reaction = split(reaction)\n",
    "    for i in length(reaction)-2:length(reaction)\n",
    "        push!(params, parse(Int64, string(reaction[i])))\n",
    "    end\n",
    "    print(params)\n",
    "    params\n",
    "end"
   ]
  },
  {
   "cell_type": "code",
   "execution_count": 75,
   "id": "4d5da9a2",
   "metadata": {},
   "outputs": [
    {
     "ename": "LoadError",
     "evalue": "MethodError: no method matching parse(::Type{Int64}, ::String)\nYou may have intended to import Base.parse",
     "output_type": "error",
     "traceback": [
      "MethodError: no method matching parse(::Type{Int64}, ::String)\nYou may have intended to import Base.parse",
      "",
      "Stacktrace:",
      " [1] parse(reaction::String)",
      "   @ Main ./In[74]:11",
      " [2] top-level scope",
      "   @ In[75]:1",
      " [3] eval",
      "   @ ./boot.jl:373 [inlined]",
      " [4] include_string(mapexpr::typeof(REPL.softscope), mod::Module, code::String, filename::String)",
      "   @ Base ./loading.jl:1196"
     ]
    }
   ],
   "source": [
    "params = parse(\"CH4 + H2O => 3H2 + CO 12e14 1.5 120\")"
   ]
  },
  {
   "cell_type": "code",
   "execution_count": 25,
   "id": "d7f809b4",
   "metadata": {},
   "outputs": [
    {
     "data": {
      "text/plain": [
       "7-element Vector{Int64}:\n",
       " 2\n",
       " 3\n",
       " 4\n",
       " 5\n",
       " 6\n",
       " 7\n",
       " 8"
      ]
     },
     "execution_count": 25,
     "metadata": {},
     "output_type": "execute_result"
    }
   ],
   "source": [
    "l = [2,3,4,5,6,7,8]"
   ]
  },
  {
   "cell_type": "code",
   "execution_count": 81,
   "id": "c3f79193",
   "metadata": {},
   "outputs": [
    {
     "ename": "LoadError",
     "evalue": "MethodError: no method matching parse(::Type{Int64}, ::String)\nYou may have intended to import Base.parse",
     "output_type": "error",
     "traceback": [
      "MethodError: no method matching parse(::Type{Int64}, ::String)\nYou may have intended to import Base.parse",
      "",
      "Stacktrace:",
      " [1] top-level scope",
      "   @ In[81]:1",
      " [2] eval",
      "   @ ./boot.jl:373 [inlined]",
      " [3] include_string(mapexpr::typeof(REPL.softscope), mod::Module, code::String, filename::String)",
      "   @ Base ./loading.jl:1196"
     ]
    }
   ],
   "source": [
    "parse(Int64, \"2\")"
   ]
  },
  {
   "cell_type": "code",
   "execution_count": 4,
   "id": "1863c37e",
   "metadata": {},
   "outputs": [
    {
     "ename": "LoadError",
     "evalue": "ArgumentError: invalid base 10 digit 'm'",
     "output_type": "error",
     "traceback": [
      "ArgumentError: invalid base 10 digit 'm'",
      "",
      "Stacktrace:",
      " [1] parse(::Type{Int64}, c::Char; base::Int64)",
      "   @ Base ./parse.jl:46",
      " [2] parse(::Type{Int64}, c::Char)",
      "   @ Base ./parse.jl:41",
      " [3] top-level scope",
      "   @ ./In[4]:4",
      " [4] eval",
      "   @ ./boot.jl:373 [inlined]",
      " [5] include_string(mapexpr::typeof(REPL.softscope), mod::Module, code::String, filename::String)",
      "   @ Base ./loading.jl:1196"
     ]
    }
   ],
   "source": [
    "l = \"saumya\"\n",
    "p = []\n",
    "for i in length(l)-2:length(l)\n",
    "    push!(p, parse(Int64, l[i]))\n",
    "end"
   ]
  },
  {
   "cell_type": "code",
   "execution_count": 5,
   "id": "262ff046",
   "metadata": {},
   "outputs": [
    {
     "data": {
      "text/plain": [
       "Any[]"
      ]
     },
     "execution_count": 5,
     "metadata": {},
     "output_type": "execute_result"
    }
   ],
   "source": [
    "p"
   ]
  },
  {
   "cell_type": "code",
   "execution_count": 1,
   "id": "9f79a226",
   "metadata": {},
   "outputs": [
    {
     "data": {
      "text/plain": [
       "2"
      ]
     },
     "execution_count": 1,
     "metadata": {},
     "output_type": "execute_result"
    }
   ],
   "source": [
    "parse(Int64,\"2\")"
   ]
  },
  {
   "cell_type": "code",
   "execution_count": 26,
   "id": "2c9267bb",
   "metadata": {},
   "outputs": [
    {
     "data": {
      "text/plain": [
       "2"
      ]
     },
     "execution_count": 26,
     "metadata": {},
     "output_type": "execute_result"
    }
   ],
   "source": [
    "l[1]"
   ]
  },
  {
   "cell_type": "code",
   "execution_count": 43,
   "id": "9de9780d",
   "metadata": {},
   "outputs": [
    {
     "data": {
      "text/plain": [
       "8-element Vector{Int64}:\n",
       " 2\n",
       " 3\n",
       " 4\n",
       " 5\n",
       " 6\n",
       " 7\n",
       " 8\n",
       " 2"
      ]
     },
     "execution_count": 43,
     "metadata": {},
     "output_type": "execute_result"
    }
   ],
   "source": [
    "push!(l,2)"
   ]
  },
  {
   "cell_type": "code",
   "execution_count": null,
   "id": "f28dbde2",
   "metadata": {},
   "outputs": [],
   "source": []
  }
 ],
 "metadata": {
  "kernelspec": {
   "display_name": "Julia 1.7.3",
   "language": "julia",
   "name": "julia-1.7"
  },
  "language_info": {
   "file_extension": ".jl",
   "mimetype": "application/julia",
   "name": "julia",
   "version": "1.7.3"
  }
 },
 "nbformat": 4,
 "nbformat_minor": 5
}
