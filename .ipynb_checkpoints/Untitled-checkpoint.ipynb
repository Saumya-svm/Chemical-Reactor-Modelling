{
 "cells": [
  {
   "cell_type": "markdown",
   "id": "3afc518d",
   "metadata": {},
   "source": [
    "## For loops"
   ]
  },
  {
   "cell_type": "code",
   "execution_count": 1,
   "id": "7202e4a7",
   "metadata": {},
   "outputs": [
    {
     "name": "stdout",
     "output_type": "stream",
     "text": [
      "111213141521222324253132333435414243444551525354556162636465717273747581828384859192939495101102103104105"
     ]
    }
   ],
   "source": [
    "for i in 1:10\n",
    "    for j in 1:5\n",
    "        print(i,j)\n",
    "    end\n",
    "end"
   ]
  },
  {
   "cell_type": "code",
   "execution_count": 4,
   "id": "e1d8e363",
   "metadata": {},
   "outputs": [
    {
     "ename": "LoadError",
     "evalue": "UndefVarError: j not defined",
     "output_type": "error",
     "traceback": [
      "UndefVarError: j not defined",
      "",
      "Stacktrace:",
      " [1] top-level scope",
      "   @ ./In[4]:1",
      " [2] eval",
      "   @ ./boot.jl:373 [inlined]",
      " [3] include_string(mapexpr::typeof(REPL.softscope), mod::Module, code::String, filename::String)",
      "   @ Base ./loading.jl:1196"
     ]
    }
   ],
   "source": [
    "for i in 1:10 j in 1:5\n",
    "    print(i, j)\n",
    "end"
   ]
  },
  {
   "cell_type": "code",
   "execution_count": 6,
   "id": "8aff3d06",
   "metadata": {},
   "outputs": [
    {
     "name": "stdout",
     "output_type": "stream",
     "text": [
      "4\n",
      "5\n",
      "6\n"
     ]
    }
   ],
   "source": [
    "a = 10\n",
    "b = 3\n",
    "while a>b\n",
    "    b+=1\n",
    "    println(b)\n",
    "    if b > 3 && b < 5\n",
    "        continue\n",
    "    end\n",
    "    if b == 6\n",
    "        break\n",
    "    end\n",
    "end"
   ]
  },
  {
   "cell_type": "code",
   "execution_count": 7,
   "id": "d9469c09",
   "metadata": {},
   "outputs": [
    {
     "name": "stdout",
     "output_type": "stream",
     "text": [
      "5\n"
     ]
    }
   ],
   "source": [
    "a = 10\n",
    "b = 3\n",
    "while a>b\n",
    "    b+=1\n",
    "    if b > 3 && b < 5\n",
    "        continue\n",
    "    end\n",
    "    if b == 6\n",
    "        break\n",
    "    end\n",
    "    println(b)\n",
    "end"
   ]
  },
  {
   "cell_type": "code",
   "execution_count": 16,
   "id": "0ef746c1",
   "metadata": {},
   "outputs": [
    {
     "data": {
      "text/plain": [
       "scope_test (generic function with 1 method)"
      ]
     },
     "execution_count": 16,
     "metadata": {},
     "output_type": "execute_result"
    }
   ],
   "source": [
    "a = 10\n",
    "function scope_test()\n",
    "    a = 15\n",
    "    println(a)\n",
    "    global a+=5\n",
    "end"
   ]
  },
  {
   "cell_type": "code",
   "execution_count": 17,
   "id": "54379af3",
   "metadata": {},
   "outputs": [
    {
     "name": "stdout",
     "output_type": "stream",
     "text": [
      "15\n"
     ]
    },
    {
     "data": {
      "text/plain": [
       "20"
      ]
     },
     "execution_count": 17,
     "metadata": {},
     "output_type": "execute_result"
    }
   ],
   "source": [
    "scope_test()"
   ]
  },
  {
   "cell_type": "code",
   "execution_count": 18,
   "id": "42186a52",
   "metadata": {},
   "outputs": [
    {
     "data": {
      "text/plain": [
       "20"
      ]
     },
     "execution_count": 18,
     "metadata": {},
     "output_type": "execute_result"
    }
   ],
   "source": [
    "a"
   ]
  },
  {
   "cell_type": "markdown",
   "id": "8eaef33b",
   "metadata": {},
   "source": [
    "## Containers"
   ]
  },
  {
   "cell_type": "code",
   "execution_count": 19,
   "id": "d16814b4",
   "metadata": {},
   "outputs": [
    {
     "data": {
      "text/plain": [
       "3-element Vector{Int64}:\n",
       " 1\n",
       " 2\n",
       " 3"
      ]
     },
     "execution_count": 19,
     "metadata": {},
     "output_type": "execute_result"
    }
   ],
   "source": [
    "x = [1,2,3]"
   ]
  },
  {
   "cell_type": "code",
   "execution_count": 20,
   "id": "70c077c4",
   "metadata": {},
   "outputs": [
    {
     "data": {
      "text/plain": [
       "1×3 Matrix{Int64}:\n",
       " 1  2  3"
      ]
     },
     "execution_count": 20,
     "metadata": {},
     "output_type": "execute_result"
    }
   ],
   "source": [
    "x = [1 2 3]"
   ]
  },
  {
   "cell_type": "code",
   "execution_count": 22,
   "id": "423573a1",
   "metadata": {},
   "outputs": [
    {
     "data": {
      "text/plain": [
       "2×3 Matrix{Int64}:\n",
       " 1  2  3\n",
       " 4  5  6"
      ]
     },
     "execution_count": 22,
     "metadata": {},
     "output_type": "execute_result"
    }
   ],
   "source": [
    "x = [1 2 3;4 5 6]"
   ]
  },
  {
   "cell_type": "code",
   "execution_count": 23,
   "id": "202df20a",
   "metadata": {},
   "outputs": [
    {
     "data": {
      "text/plain": [
       "3×5 Matrix{Float64}:\n",
       " 0.746367  0.800792  0.619533   0.507977   0.0671459\n",
       " 0.78739   0.176132  0.304215   0.926406   0.439667\n",
       " 0.531552  0.99237   0.0252235  0.0204978  0.980137"
      ]
     },
     "execution_count": 23,
     "metadata": {},
     "output_type": "execute_result"
    }
   ],
   "source": [
    "z = rand(3,5)"
   ]
  },
  {
   "cell_type": "code",
   "execution_count": 30,
   "id": "aa2aa3c5",
   "metadata": {},
   "outputs": [
    {
     "data": {
      "text/plain": [
       "2×2 Matrix{Float64}:\n",
       " 0.926406   0.439667\n",
       " 0.0204978  0.980137"
      ]
     },
     "execution_count": 30,
     "metadata": {},
     "output_type": "execute_result"
    }
   ],
   "source": [
    "z[2:end,4:end]"
   ]
  },
  {
   "cell_type": "code",
   "execution_count": 31,
   "id": "630761ae",
   "metadata": {},
   "outputs": [
    {
     "data": {
      "text/plain": [
       "5×5 Matrix{Float64}:\n",
       " 0.365054  0.520456  0.158324   0.0713795  0.893931\n",
       " 0.402058  0.214149  0.872122   0.53447    0.671618\n",
       " 0.401843  0.352382  0.181463   0.558919   0.48307\n",
       " 0.416851  0.280743  0.0114697  0.318249   0.139867\n",
       " 0.69738   0.175426  0.792285   0.34388    0.355367"
      ]
     },
     "execution_count": 31,
     "metadata": {},
     "output_type": "execute_result"
    }
   ],
   "source": [
    "x = rand(5,5)"
   ]
  },
  {
   "cell_type": "code",
   "execution_count": 32,
   "id": "84b52ebf",
   "metadata": {},
   "outputs": [
    {
     "data": {
      "text/plain": [
       "2×2 Matrix{Float64}:\n",
       " 0.214149  0.872122\n",
       " 0.352382  0.181463"
      ]
     },
     "execution_count": 32,
     "metadata": {},
     "output_type": "execute_result"
    }
   ],
   "source": [
    "x[2:3,2:3]"
   ]
  },
  {
   "cell_type": "code",
   "execution_count": 35,
   "id": "e0f9bdec",
   "metadata": {},
   "outputs": [
    {
     "data": {
      "text/plain": [
       "25-element view(::Vector{Float64}, 1:25) with eltype Float64:\n",
       " 0.0\n",
       " 0.0\n",
       " 0.0\n",
       " 0.0\n",
       " 0.0\n",
       " 0.0\n",
       " 0.0\n",
       " 0.0\n",
       " 0.0\n",
       " 0.0\n",
       " 0.0\n",
       " 0.0\n",
       " 0.0\n",
       " 0.0\n",
       " 0.0\n",
       " 0.0\n",
       " 0.0\n",
       " 0.0\n",
       " 0.0\n",
       " 0.0\n",
       " 0.0\n",
       " 0.0\n",
       " 0.0\n",
       " 0.0\n",
       " 0.0"
      ]
     },
     "execution_count": 35,
     "metadata": {},
     "output_type": "execute_result"
    }
   ],
   "source": [
    "# assignment operator\n",
    "x[1:end] .= 0"
   ]
  },
  {
   "cell_type": "code",
   "execution_count": 36,
   "id": "4fcf46b3",
   "metadata": {},
   "outputs": [
    {
     "data": {
      "text/plain": [
       "5×5 Matrix{Float64}:\n",
       " 0.0  0.0  0.0  0.0  0.0\n",
       " 0.0  0.0  0.0  0.0  0.0\n",
       " 0.0  0.0  0.0  0.0  0.0\n",
       " 0.0  0.0  0.0  0.0  0.0\n",
       " 0.0  0.0  0.0  0.0  0.0"
      ]
     },
     "execution_count": 36,
     "metadata": {},
     "output_type": "execute_result"
    }
   ],
   "source": [
    "x"
   ]
  },
  {
   "cell_type": "code",
   "execution_count": 45,
   "id": "e89d2f26",
   "metadata": {},
   "outputs": [
    {
     "data": {
      "text/plain": [
       "3-element Vector{Int64}:\n",
       "  5\n",
       "  8\n",
       " 15"
      ]
     },
     "execution_count": 45,
     "metadata": {},
     "output_type": "execute_result"
    }
   ],
   "source": [
    "coeff = [3 2 1;1 3 2;2 2 3]\n",
    "rhs = [5;8;15]"
   ]
  },
  {
   "cell_type": "code",
   "execution_count": 46,
   "id": "0d77d6b6",
   "metadata": {},
   "outputs": [
    {
     "data": {
      "text/plain": [
       "3-element Vector{Float64}:\n",
       "  0.6153846153846154\n",
       " -1.0769230769230758\n",
       "  5.3076923076923075"
      ]
     },
     "execution_count": 46,
     "metadata": {},
     "output_type": "execute_result"
    }
   ],
   "source": [
    "x = inv(coeff)*(rhs)"
   ]
  },
  {
   "cell_type": "code",
   "execution_count": 51,
   "id": "ace186b9",
   "metadata": {},
   "outputs": [
    {
     "data": {
      "text/plain": [
       "3-element Vector{Float64}:\n",
       "  0.6153846153846154\n",
       " -1.0769230769230769\n",
       "  5.3076923076923075"
      ]
     },
     "execution_count": 51,
     "metadata": {},
     "output_type": "execute_result"
    }
   ],
   "source": [
    "coeff \\ rhs"
   ]
  },
  {
   "cell_type": "code",
   "execution_count": 52,
   "id": "a936242c",
   "metadata": {},
   "outputs": [
    {
     "data": {
      "text/plain": [
       "3×3 Matrix{Int64}:\n",
       " 60  20  40\n",
       " 40  60  40\n",
       " 20  40  60"
      ]
     },
     "execution_count": 52,
     "metadata": {},
     "output_type": "execute_result"
    }
   ],
   "source": [
    "b = coeff'\n",
    "a .* b"
   ]
  },
  {
   "cell_type": "code",
   "execution_count": 57,
   "id": "24191dd8",
   "metadata": {},
   "outputs": [
    {
     "data": {
      "text/plain": [
       "3×3 adjoint(::Matrix{Int64}) with eltype Int64:\n",
       " 3  2  6\n",
       " 2  6  6\n",
       " 1  4  9"
      ]
     },
     "execution_count": 57,
     "metadata": {},
     "output_type": "execute_result"
    }
   ],
   "source": [
    "# broadcast\n",
    "z = [1;2;3]\n",
    "(z .* coeff)'"
   ]
  },
  {
   "cell_type": "markdown",
   "id": "359cde29",
   "metadata": {},
   "source": [
    "## tuple\n"
   ]
  },
  {
   "cell_type": "code",
   "execution_count": 58,
   "id": "7efdb6c0",
   "metadata": {},
   "outputs": [
    {
     "data": {
      "text/plain": [
       "(1, 2, 3, 4)"
      ]
     },
     "execution_count": 58,
     "metadata": {},
     "output_type": "execute_result"
    }
   ],
   "source": [
    "# immutable\n",
    "a = (1,2,3,4)"
   ]
  },
  {
   "cell_type": "code",
   "execution_count": 59,
   "id": "7d09c635",
   "metadata": {},
   "outputs": [
    {
     "data": {
      "text/plain": [
       "1"
      ]
     },
     "execution_count": 59,
     "metadata": {},
     "output_type": "execute_result"
    }
   ],
   "source": [
    "a[1]"
   ]
  },
  {
   "cell_type": "code",
   "execution_count": 60,
   "id": "f8edb364",
   "metadata": {},
   "outputs": [
    {
     "data": {
      "text/plain": [
       "(h = 0.001, O = 0.016, N = 0.014, C = 0.012)"
      ]
     },
     "execution_count": 60,
     "metadata": {},
     "output_type": "execute_result"
    }
   ],
   "source": [
    "# symbols\n",
    "elements = (h=0.001, O=0.016, N = 0.014, C=0.012)"
   ]
  },
  {
   "cell_type": "code",
   "execution_count": 66,
   "id": "24e91a7e",
   "metadata": {},
   "outputs": [
    {
     "data": {
      "text/plain": [
       "0.001"
      ]
     },
     "execution_count": 66,
     "metadata": {},
     "output_type": "execute_result"
    }
   ],
   "source": [
    "# put a colon for symbol\n",
    "elements[:h]"
   ]
  },
  {
   "cell_type": "code",
   "execution_count": 78,
   "id": "ed9f7493",
   "metadata": {},
   "outputs": [
    {
     "data": {
      "text/plain": [
       "get_element_weight (generic function with 1 method)"
      ]
     },
     "execution_count": 78,
     "metadata": {},
     "output_type": "execute_result"
    }
   ],
   "source": [
    "function get_element_weight(el::String)\n",
    "    return elements[Symbol(el)]\n",
    "end"
   ]
  },
  {
   "cell_type": "code",
   "execution_count": 79,
   "id": "b66af96c",
   "metadata": {},
   "outputs": [
    {
     "data": {
      "text/plain": [
       "0.001"
      ]
     },
     "execution_count": 79,
     "metadata": {},
     "output_type": "execute_result"
    }
   ],
   "source": [
    "get_element_weight(\"h\")"
   ]
  },
  {
   "cell_type": "code",
   "execution_count": 85,
   "id": "1ba88774",
   "metadata": {},
   "outputs": [
    {
     "data": {
      "text/plain": [
       "0.001"
      ]
     },
     "execution_count": 85,
     "metadata": {},
     "output_type": "execute_result"
    }
   ],
   "source": [
    "elements[Symbol(\"h\")]"
   ]
  },
  {
   "cell_type": "code",
   "execution_count": 89,
   "id": "e681662f",
   "metadata": {},
   "outputs": [
    {
     "data": {
      "text/plain": [
       "get_element_weight (generic function with 1 method)"
      ]
     },
     "execution_count": 89,
     "metadata": {},
     "output_type": "execute_result"
    }
   ],
   "source": [
    "# incomplete element handling\n",
    "function get_element_weight(el::String)\n",
    "    if haskey(elements,Symbol(el))\n",
    "        return elements[Symbol(el)]\n",
    "    else\n",
    "        \"Not in the tuple\"\n",
    "    end\n",
    "end"
   ]
  },
  {
   "cell_type": "code",
   "execution_count": 90,
   "id": "7a8fc0aa",
   "metadata": {},
   "outputs": [
    {
     "data": {
      "text/plain": [
       "\"Not in the tuple\""
      ]
     },
     "execution_count": 90,
     "metadata": {},
     "output_type": "execute_result"
    }
   ],
   "source": [
    "get_element_weight(\"ar\")"
   ]
  },
  {
   "cell_type": "code",
   "execution_count": 96,
   "id": "aff2ab25",
   "metadata": {},
   "outputs": [
    {
     "name": "stdout",
     "output_type": "stream",
     "text": [
      "1 1\n",
      "2 4\n",
      "3 2\n",
      "4 5\n",
      "5 3\n",
      "6 6\n"
     ]
    }
   ],
   "source": [
    "a = [1,2,3,4]\n",
    "b = [1 2 3;4 5 6]\n",
    "\n",
    "# inside the memory its all an array\n",
    "for (k,v) in enumerate(b)\n",
    "    println(\"$k $v\")\n",
    "end"
   ]
  },
  {
   "cell_type": "markdown",
   "id": "253a4ef8",
   "metadata": {},
   "source": [
    "## Dictionary"
   ]
  },
  {
   "cell_type": "code",
   "execution_count": 1,
   "id": "0bb5c37b",
   "metadata": {},
   "outputs": [
    {
     "data": {
      "text/plain": [
       "Dict{String, Float64} with 1 entry:\n",
       "  \"CH4\" => 0.016"
      ]
     },
     "execution_count": 1,
     "metadata": {},
     "output_type": "execute_result"
    }
   ],
   "source": [
    "d = Dict(\"CH4\"=>0.016)"
   ]
  },
  {
   "cell_type": "code",
   "execution_count": 4,
   "id": "ee1b4e26",
   "metadata": {},
   "outputs": [
    {
     "name": "stdout",
     "output_type": "stream",
     "text": [
      "CH4 0.016"
     ]
    }
   ],
   "source": [
    "for (k,v) in d\n",
    "\n",
    "    print(\"$k $v\")\n",
    "end"
   ]
  },
  {
   "cell_type": "code",
   "execution_count": 6,
   "id": "c888f86d",
   "metadata": {},
   "outputs": [
    {
     "data": {
      "text/plain": [
       "KeySet for a Dict{String, Float64} with 1 entry. Keys:\n",
       "  \"CH4\""
      ]
     },
     "execution_count": 6,
     "metadata": {},
     "output_type": "execute_result"
    }
   ],
   "source": [
    "keys(d)"
   ]
  },
  {
   "cell_type": "code",
   "execution_count": 7,
   "id": "281a1a98",
   "metadata": {},
   "outputs": [
    {
     "data": {
      "text/plain": [
       "ValueIterator for a Dict{String, Float64} with 1 entry. Values:\n",
       "  0.016"
      ]
     },
     "execution_count": 7,
     "metadata": {},
     "output_type": "execute_result"
    }
   ],
   "source": [
    "values(d)"
   ]
  },
  {
   "cell_type": "code",
   "execution_count": 11,
   "id": "256c14fc",
   "metadata": {},
   "outputs": [
    {
     "name": "stdout",
     "output_type": "stream",
     "text": [
      "\"CH4\" => 0.016\n"
     ]
    }
   ],
   "source": [
    "for k in d\n",
    "    println(k)\n",
    "end"
   ]
  },
  {
   "cell_type": "code",
   "execution_count": 8,
   "id": "e3ea7e2b",
   "metadata": {},
   "outputs": [
    {
     "data": {
      "text/plain": [
       "0.016"
      ]
     },
     "execution_count": 8,
     "metadata": {},
     "output_type": "execute_result"
    }
   ],
   "source": [
    "d[\"CH4\"]"
   ]
  },
  {
   "cell_type": "code",
   "execution_count": 12,
   "id": "e9a76fe8",
   "metadata": {},
   "outputs": [
    {
     "data": {
      "text/plain": [
       "false"
      ]
     },
     "execution_count": 12,
     "metadata": {},
     "output_type": "execute_result"
    }
   ],
   "source": [
    "haskey(d,\"N2\")"
   ]
  },
  {
   "cell_type": "code",
   "execution_count": 14,
   "id": "4e7701d0",
   "metadata": {},
   "outputs": [
    {
     "data": {
      "text/plain": [
       "Vector{Dict{String, Float64}} (alias for Array{Dict{String, Float64}, 1})"
      ]
     },
     "execution_count": 14,
     "metadata": {},
     "output_type": "execute_result"
    }
   ],
   "source": [
    "array_dict = Array{Dict{String, Float64},1}"
   ]
  },
  {
   "cell_type": "code",
   "execution_count": 22,
   "id": "808a7e6e",
   "metadata": {},
   "outputs": [
    {
     "data": {
      "text/plain": [
       "Dict{String, Dict{String, Float64}}()"
      ]
     },
     "execution_count": 22,
     "metadata": {},
     "output_type": "execute_result"
    }
   ],
   "source": [
    "# parenthesdis for empty dictionary\n",
    "d2 = Dict{String, Dict{String, Float64}}()"
   ]
  },
  {
   "cell_type": "code",
   "execution_count": 23,
   "id": "c5044715",
   "metadata": {},
   "outputs": [
    {
     "data": {
      "text/plain": [
       "Dict{String, Float64} with 1 entry:\n",
       "  \"CH4\" => 0.016"
      ]
     },
     "execution_count": 23,
     "metadata": {},
     "output_type": "execute_result"
    }
   ],
   "source": [
    "d2[\"test\"] = d"
   ]
  },
  {
   "cell_type": "code",
   "execution_count": 24,
   "id": "538216c6",
   "metadata": {},
   "outputs": [
    {
     "data": {
      "text/plain": [
       "Dict{String, Dict{String, Float64}} with 1 entry:\n",
       "  \"test\" => Dict(\"CH4\"=>0.016)"
      ]
     },
     "execution_count": 24,
     "metadata": {},
     "output_type": "execute_result"
    }
   ],
   "source": [
    "# if we change d, then the key in the dict of dicts will change \n",
    "d2"
   ]
  },
  {
   "cell_type": "code",
   "execution_count": 25,
   "id": "a5c4b8c1",
   "metadata": {},
   "outputs": [
    {
     "data": {
      "text/plain": [
       "14"
      ]
     },
     "execution_count": 25,
     "metadata": {},
     "output_type": "execute_result"
    }
   ],
   "source": [
    "d[\"N2\"] = 14"
   ]
  },
  {
   "cell_type": "code",
   "execution_count": 26,
   "id": "8884d3f2",
   "metadata": {},
   "outputs": [
    {
     "data": {
      "text/plain": [
       "Dict{String, Float64} with 2 entries:\n",
       "  \"CH4\" => 0.016\n",
       "  \"N2\"  => 14.0"
      ]
     },
     "execution_count": 26,
     "metadata": {},
     "output_type": "execute_result"
    }
   ],
   "source": [
    "d"
   ]
  },
  {
   "cell_type": "code",
   "execution_count": 27,
   "id": "15f81639",
   "metadata": {},
   "outputs": [
    {
     "data": {
      "text/plain": [
       "Dict{String, Dict{String, Float64}} with 1 entry:\n",
       "  \"test\" => Dict(\"CH4\"=>0.016, \"N2\"=>14.0)"
      ]
     },
     "execution_count": 27,
     "metadata": {},
     "output_type": "execute_result"
    }
   ],
   "source": [
    "d2"
   ]
  },
  {
   "cell_type": "markdown",
   "id": "187e488e",
   "metadata": {},
   "source": [
    "## Composite Types"
   ]
  },
  {
   "cell_type": "code",
   "execution_count": 1,
   "id": "ffea927e",
   "metadata": {},
   "outputs": [],
   "source": [
    "struct Species\n",
    "    name::String\n",
    "    mol_wt::Float64\n",
    "    geom::Int64\n",
    "    dipole::Int64\n",
    "end"
   ]
  },
  {
   "cell_type": "code",
   "execution_count": 2,
   "id": "be5d9236",
   "metadata": {},
   "outputs": [
    {
     "data": {
      "text/plain": [
       "Species(\"CH4\", 0.016, 1, 2)"
      ]
     },
     "execution_count": 2,
     "metadata": {},
     "output_type": "execute_result"
    }
   ],
   "source": [
    "sp1 = Species(\"CH4\",0.016,1,2)"
   ]
  },
  {
   "cell_type": "code",
   "execution_count": 3,
   "id": "a427bacb",
   "metadata": {},
   "outputs": [
    {
     "ename": "LoadError",
     "evalue": "setfield!: immutable struct of type Species cannot be changed",
     "output_type": "error",
     "traceback": [
      "setfield!: immutable struct of type Species cannot be changed",
      "",
      "Stacktrace:",
      " [1] setproperty!(x::Species, f::Symbol, v::String)",
      "   @ Base ./Base.jl:43",
      " [2] top-level scope",
      "   @ In[3]:1",
      " [3] eval",
      "   @ ./boot.jl:373 [inlined]",
      " [4] include_string(mapexpr::typeof(REPL.softscope), mod::Module, code::String, filename::String)",
      "   @ Base ./loading.jl:1196"
     ]
    }
   ],
   "source": [
    "# immutable\n",
    "sp1.name = \"Saumya\""
   ]
  },
  {
   "cell_type": "code",
   "execution_count": 4,
   "id": "39993ddd",
   "metadata": {},
   "outputs": [],
   "source": [
    "mutable struct MutableSpecies\n",
    "    name::String\n",
    "    mol_wt::Float64\n",
    "    geom::Int64\n",
    "    dipole::Int64\n",
    "end"
   ]
  },
  {
   "cell_type": "code",
   "execution_count": 7,
   "id": "fbf3a199",
   "metadata": {},
   "outputs": [
    {
     "data": {
      "text/plain": [
       "MutableSpecies(\"CH4\", 0.016, 1, 2)"
      ]
     },
     "execution_count": 7,
     "metadata": {},
     "output_type": "execute_result"
    }
   ],
   "source": [
    "sp = MutableSpecies(\"CH4\",0.016,1,2)"
   ]
  },
  {
   "cell_type": "code",
   "execution_count": 8,
   "id": "f87b68dd",
   "metadata": {},
   "outputs": [
    {
     "data": {
      "text/plain": [
       "0.0161"
      ]
     },
     "execution_count": 8,
     "metadata": {},
     "output_type": "execute_result"
    }
   ],
   "source": [
    "sp.mol_wt = 0.0161"
   ]
  },
  {
   "cell_type": "code",
   "execution_count": null,
   "id": "11d072cf",
   "metadata": {},
   "outputs": [],
   "source": []
  }
 ],
 "metadata": {
  "kernelspec": {
   "display_name": "Julia 1.7.3",
   "language": "julia",
   "name": "julia-1.7"
  },
  "language_info": {
   "file_extension": ".jl",
   "mimetype": "application/julia",
   "name": "julia",
   "version": "1.7.3"
  }
 },
 "nbformat": 4,
 "nbformat_minor": 5
}
